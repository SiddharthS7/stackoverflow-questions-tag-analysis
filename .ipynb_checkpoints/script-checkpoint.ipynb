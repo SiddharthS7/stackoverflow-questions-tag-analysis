{
 "cells": [
  {
   "cell_type": "code",
   "execution_count": null,
   "metadata": {},
   "outputs": [],
   "source": []
  },
  {
   "cell_type": "markdown",
   "metadata": {},
   "source": [
    "The dataset has been taken from <a href=\"https://www.kaggle.com/imoore/60k-stack-overflow-questions-with-quality-rate\">Kaggle</a>"
   ]
  },
  {
   "cell_type": "markdown",
   "metadata": {},
   "source": [
    "The shape of the dataset is"
   ]
  },
  {
   "cell_type": "markdown",
   "metadata": {},
   "source": [
    "In this data set there are row and columns"
   ]
  },
  {
   "cell_type": "markdown",
   "metadata": {},
   "source": [
    "The various headings in the data set are as follows:<br>\n",
    "<u>Id</u>(integer) - id of the post<br>\n",
    "<u>Title</u>(string) - title of the post<br>\n",
    "<u>Body</u>(string) - content of the post<br>\n",
    "<u>Tags</u>(string) - languages and concepts used in the post<br>\n",
    "<u>CreationDate</u>(string) - date of creation of the post<br>\n",
    "<u>Quality</u>(string) - quality of the post"
   ]
  },
  {
   "cell_type": "code",
   "execution_count": 2,
   "metadata": {},
   "outputs": [],
   "source": [
    "import pandas as pd"
   ]
  },
  {
   "cell_type": "code",
   "execution_count": null,
   "metadata": {},
   "outputs": [],
   "source": []
  }
 ],
 "metadata": {
  "interpreter": {
   "hash": "c847c6e972454b29a089ff441ac7748bdb3ebfe236f9ff01197d59c725715b4d"
  },
  "kernelspec": {
   "display_name": "Python 3",
   "language": "python",
   "name": "python3"
  },
  "language_info": {
   "codemirror_mode": {
    "name": "ipython",
    "version": 3
   },
   "file_extension": ".py",
   "mimetype": "text/x-python",
   "name": "python",
   "nbconvert_exporter": "python",
   "pygments_lexer": "ipython3",
   "version": "3.8.5"
  }
 },
 "nbformat": 4,
 "nbformat_minor": 2
}
